{
 "cells": [
  {
   "cell_type": "code",
   "execution_count": 2,
   "id": "678c9a3a",
   "metadata": {},
   "outputs": [],
   "source": [
    "import pandas as pd\n",
    "import numpy as np\n",
    "import seaborn as sns"
   ]
  },
  {
   "cell_type": "code",
   "execution_count": 3,
   "id": "8be9921c",
   "metadata": {},
   "outputs": [
    {
     "name": "stderr",
     "output_type": "stream",
     "text": [
      "c:\\users\\samriddhi singh\\appdata\\local\\programs\\python\\python38\\lib\\site-packages\\IPython\\core\\interactiveshell.py:3165: DtypeWarning: Columns (1) have mixed types.Specify dtype option on import or set low_memory=False.\n",
      "  has_raised = await self.run_ast_nodes(code_ast.body, cell_name,\n"
     ]
    }
   ],
   "source": [
    "df = pd.read_csv(\"all_matches.csv\")\n"
   ]
  },
  {
   "cell_type": "code",
   "execution_count": 4,
   "id": "e102c1dc",
   "metadata": {},
   "outputs": [],
   "source": [
    "remove_columns = ['season', 'start_date', 'striker', 'non_striker', 'bowler', 'byes', 'legbyes', 'noballs',\n",
    "                  'penalty', 'wicket_type', 'player_dismissed', 'other_wicket_type', 'other_player_dismissed', 'wides']\n",
    "df.drop(labels = remove_columns, axis = 1, inplace = True)\n",
    "\n",
    "df = df.fillna(0)\n",
    "df['score'] = (df[\"runs_off_bat\"] + df[\"extras\"]).astype(\"int\")\n",
    "df = df[[\"match_id\", \"venue\", \"innings\", \"batting_team\", \"bowling_team\", \"ball\", \"score\"]]\n",
    "df = df[df.ball <= 6.0]"
   ]
  },
  {
   "cell_type": "code",
   "execution_count": 5,
   "id": "5a0bbee8",
   "metadata": {},
   "outputs": [],
   "source": [
    "current_teams = ['Kolkata Knight Riders', 'Chennai Super Kings', 'Rajasthan Royals', 'Mumbai Indians', \n",
    "                 'Kings XI Punjab', 'Royal Challengers Bangalore', 'Delhi Daredevils', 'Sunrisers Hyderabad']\n",
    "\n",
    "current_venues = ['M Chinnaswamy Stadium', 'Eden Gardens', 'MA Chidambaram Stadium', 'Wankhede Stadium', \n",
    "                  'Arun Jaitley Stadium']\n",
    "\n",
    "df = df[(df['batting_team'].isin(current_teams)) &(df['bowling_team'].isin(current_teams))]\n",
    "df = df[(df['venue'].isin(current_venues))]"
   ]
  },
  {
   "cell_type": "code",
   "execution_count": 6,
   "id": "024fc7bd",
   "metadata": {},
   "outputs": [],
   "source": [
    "df['score_6'] = df.groupby(['match_id', 'innings'])['score'].transform('sum')"
   ]
  },
  {
   "cell_type": "code",
   "execution_count": 7,
   "id": "a0cd4f6b",
   "metadata": {},
   "outputs": [],
   "source": [
    "dummies = pd.get_dummies(df.venue)\n",
    "merged = pd.concat([df,dummies],axis='columns')\n",
    "df = merged.drop(['venue'],axis='columns')\n",
    "\n",
    "dummies2 = pd.get_dummies(df.batting_team)\n",
    "merged2 = pd.concat([df,dummies2],axis='columns')\n",
    "df = merged2.drop(['batting_team'],axis='columns')\n",
    "\n",
    "dummies3 = pd.get_dummies(df.bowling_team)\n",
    "merged3 = pd.concat([df,dummies3],axis='columns')\n",
    "df = merged3.drop(['bowling_team'],axis='columns')"
   ]
  },
  {
   "cell_type": "code",
   "execution_count": 8,
   "id": "d456a608",
   "metadata": {},
   "outputs": [],
   "source": [
    "df = df.drop(['match_id'],axis='columns')"
   ]
  },
  {
   "cell_type": "code",
   "execution_count": 9,
   "id": "95f05644",
   "metadata": {},
   "outputs": [],
   "source": [
    "X = df.drop('score_6',axis=1)\n",
    "y = df['score_6']"
   ]
  },
  {
   "cell_type": "code",
   "execution_count": 10,
   "id": "69ca6232",
   "metadata": {},
   "outputs": [],
   "source": [
    "from sklearn.model_selection import train_test_split\n",
    "X_train, X_test, y_train, y_test = train_test_split(X, y, test_size=0.9, random_state=0)"
   ]
  },
  {
   "cell_type": "code",
   "execution_count": 11,
   "id": "fb12637f",
   "metadata": {},
   "outputs": [
    {
     "data": {
      "text/plain": [
       "RandomForestRegressor(n_estimators=1000, random_state=42)"
      ]
     },
     "execution_count": 11,
     "metadata": {},
     "output_type": "execute_result"
    }
   ],
   "source": [
    "from sklearn.ensemble import RandomForestRegressor\n",
    "regressor = RandomForestRegressor(n_estimators = 1000, random_state = 42)\n",
    "regressor.fit(X_train, y_train)"
   ]
  },
  {
   "cell_type": "code",
   "execution_count": 12,
   "id": "65ca7843",
   "metadata": {},
   "outputs": [],
   "source": [
    "y_pred = regressor.predict(X_test)"
   ]
  },
  {
   "cell_type": "code",
   "execution_count": 13,
   "id": "e4273e7f",
   "metadata": {},
   "outputs": [
    {
     "data": {
      "text/html": [
       "<div>\n",
       "<style scoped>\n",
       "    .dataframe tbody tr th:only-of-type {\n",
       "        vertical-align: middle;\n",
       "    }\n",
       "\n",
       "    .dataframe tbody tr th {\n",
       "        vertical-align: top;\n",
       "    }\n",
       "\n",
       "    .dataframe thead th {\n",
       "        text-align: right;\n",
       "    }\n",
       "</style>\n",
       "<table border=\"1\" class=\"dataframe\">\n",
       "  <thead>\n",
       "    <tr style=\"text-align: right;\">\n",
       "      <th></th>\n",
       "      <th>Actual</th>\n",
       "      <th>Predicted</th>\n",
       "    </tr>\n",
       "  </thead>\n",
       "  <tbody>\n",
       "    <tr>\n",
       "      <th>172280</th>\n",
       "      <td>45</td>\n",
       "      <td>50.641750</td>\n",
       "    </tr>\n",
       "    <tr>\n",
       "      <th>73015</th>\n",
       "      <td>50</td>\n",
       "      <td>48.788233</td>\n",
       "    </tr>\n",
       "    <tr>\n",
       "      <th>43233</th>\n",
       "      <td>24</td>\n",
       "      <td>26.390964</td>\n",
       "    </tr>\n",
       "    <tr>\n",
       "      <th>50665</th>\n",
       "      <td>35</td>\n",
       "      <td>51.281700</td>\n",
       "    </tr>\n",
       "    <tr>\n",
       "      <th>133598</th>\n",
       "      <td>51</td>\n",
       "      <td>54.574667</td>\n",
       "    </tr>\n",
       "    <tr>\n",
       "      <th>...</th>\n",
       "      <td>...</td>\n",
       "      <td>...</td>\n",
       "    </tr>\n",
       "    <tr>\n",
       "      <th>134137</th>\n",
       "      <td>59</td>\n",
       "      <td>40.085429</td>\n",
       "    </tr>\n",
       "    <tr>\n",
       "      <th>105693</th>\n",
       "      <td>52</td>\n",
       "      <td>49.270783</td>\n",
       "    </tr>\n",
       "    <tr>\n",
       "      <th>108501</th>\n",
       "      <td>100</td>\n",
       "      <td>59.403000</td>\n",
       "    </tr>\n",
       "    <tr>\n",
       "      <th>146</th>\n",
       "      <td>26</td>\n",
       "      <td>39.827000</td>\n",
       "    </tr>\n",
       "    <tr>\n",
       "      <th>92748</th>\n",
       "      <td>76</td>\n",
       "      <td>36.869500</td>\n",
       "    </tr>\n",
       "  </tbody>\n",
       "</table>\n",
       "<p>13180 rows × 2 columns</p>\n",
       "</div>"
      ],
      "text/plain": [
       "        Actual  Predicted\n",
       "172280      45  50.641750\n",
       "73015       50  48.788233\n",
       "43233       24  26.390964\n",
       "50665       35  51.281700\n",
       "133598      51  54.574667\n",
       "...        ...        ...\n",
       "134137      59  40.085429\n",
       "105693      52  49.270783\n",
       "108501     100  59.403000\n",
       "146         26  39.827000\n",
       "92748       76  36.869500\n",
       "\n",
       "[13180 rows x 2 columns]"
      ]
     },
     "execution_count": 13,
     "metadata": {},
     "output_type": "execute_result"
    }
   ],
   "source": [
    "df=pd.DataFrame({'Actual':y_test, 'Predicted':y_pred})\n",
    "df"
   ]
  },
  {
   "cell_type": "code",
   "execution_count": 14,
   "id": "c4fdafb9",
   "metadata": {},
   "outputs": [
    {
     "name": "stdout",
     "output_type": "stream",
     "text": [
      "Mean Absolute Error: 9.168938739853555\n",
      "Mean Squared Error: 153.3159370841245\n",
      "Root Mean Squared Error: 12.382081290482812\n",
      "R Squared Error: 0.2801182620257563\n"
     ]
    }
   ],
   "source": [
    "from sklearn import metrics\n",
    "print('Mean Absolute Error:', metrics.mean_absolute_error(y_test, y_pred))\n",
    "print('Mean Squared Error:', metrics.mean_squared_error(y_test, y_pred))\n",
    "print('Root Mean Squared Error:', np.sqrt(metrics.mean_squared_error(y_test, y_pred)))\n",
    "from sklearn.metrics import r2_score\n",
    "print('R Squared Error:', np.sqrt(metrics.r2_score(y_test, y_pred)))"
   ]
  },
  {
   "cell_type": "code",
   "execution_count": 15,
   "id": "1e010766",
   "metadata": {},
   "outputs": [
    {
     "name": "stdout",
     "output_type": "stream",
     "text": [
      "Mean Absolute Error: 9.17 degrees.\n",
      "Accuracy: 77.06 %.\n"
     ]
    }
   ],
   "source": [
    "# Calculate the absolute errors\n",
    "errors = abs(y_pred - y_test)\n",
    "# Print out the mean absolute error (mae)\n",
    "print('Mean Absolute Error:', round(np.mean(errors), 2), 'degrees.')\n",
    "\n",
    "# Calculate mean absolute percentage error (MAPE)\n",
    "mape = 100 * (errors / y_test)\n",
    "# Calculate and display accuracy\n",
    "accuracy = 100 - np.mean(mape)\n",
    "print('Accuracy:', round(accuracy, 2), '%.')\n"
   ]
  },
  {
   "cell_type": "code",
   "execution_count": null,
   "id": "239ca3d4",
   "metadata": {},
   "outputs": [],
   "source": []
  }
 ],
 "metadata": {
  "kernelspec": {
   "display_name": "Python 3",
   "language": "python",
   "name": "python3"
  },
  "language_info": {
   "codemirror_mode": {
    "name": "ipython",
    "version": 3
   },
   "file_extension": ".py",
   "mimetype": "text/x-python",
   "name": "python",
   "nbconvert_exporter": "python",
   "pygments_lexer": "ipython3",
   "version": "3.8.0"
  }
 },
 "nbformat": 4,
 "nbformat_minor": 5
}
